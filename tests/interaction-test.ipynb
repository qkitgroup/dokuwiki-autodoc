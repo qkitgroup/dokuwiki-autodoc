{
 "cells": [
  {
   "cell_type": "code",
   "execution_count": 2,
   "id": "d8c39cdbe1bc1ff1",
   "metadata": {
    "collapsed": true,
    "ExecuteTime": {
     "end_time": "2023-11-27T15:07:55.685764714Z",
     "start_time": "2023-11-27T15:07:55.526331595Z"
    }
   },
   "outputs": [],
   "source": [
    "from dokuwiki_autodoc import autodoc"
   ]
  },
  {
   "cell_type": "code",
   "execution_count": 5,
   "outputs": [
    {
     "data": {
      "text/plain": "<dokuwiki_autodoc.autodoc.AutoDocumentation at 0x7f4d44429420>"
     },
     "execution_count": 5,
     "metadata": {},
     "output_type": "execute_result"
    }
   ],
   "source": [
    "doc = autodoc.AutoDocumentation(\"https://pi-us28.phi.kit.edu/wiki/\")\n",
    "doc.with_templates()"
   ],
   "metadata": {
    "collapsed": false,
    "ExecuteTime": {
     "end_time": "2023-11-27T15:08:34.117523901Z",
     "start_time": "2023-11-27T15:08:28.685535435Z"
    }
   },
   "id": "initial_id"
  },
  {
   "cell_type": "code",
   "execution_count": 6,
   "outputs": [],
   "source": [
    "this_is_context = \"look_here\""
   ],
   "metadata": {
    "collapsed": false,
    "ExecuteTime": {
     "end_time": "2023-11-27T15:10:04.348489167Z",
     "start_time": "2023-11-27T15:10:04.338948719Z"
    }
   },
   "id": "a11df067c72af14a"
  },
  {
   "cell_type": "code",
   "execution_count": 7,
   "outputs": [],
   "source": [
    "builder = autodoc.QkitDocumentationBuilder(doc, \"this_can_be_safely_deleted\")\n",
    "builder.update_context_with_locals()"
   ],
   "metadata": {
    "collapsed": false,
    "ExecuteTime": {
     "end_time": "2023-11-27T15:10:06.129308151Z",
     "start_time": "2023-11-27T15:10:06.125662445Z"
    }
   },
   "id": "f5020de13ad7aa24"
  },
  {
   "cell_type": "code",
   "execution_count": 8,
   "outputs": [
    {
     "data": {
      "text/plain": "{'In': ['',\n  'doc = autodoc.AutoDocumentation(\"https://pi-us28.phi.kit.edu/wiki/\")',\n  'from dokuwiki_autodoc import autodoc',\n  'doc = autodoc.AutoDocumentation(\"https://pi-us28.phi.kit.edu/wiki/\")',\n  'doc = autodoc.AutoDocumentation(\"https://pi-us28.phi.kit.edu/wiki/\")\\ndoc.load_templates()',\n  'doc = autodoc.AutoDocumentation(\"https://pi-us28.phi.kit.edu/wiki/\")\\ndoc.with_templates()',\n  'this_is_context = \"look_here\"',\n  'builder = autodoc.QkitDocumentationBuilder(doc, \"this_can_be_safely_deleted\")\\nbuilder.update_context_with_locals()',\n  'builder._local_context'],\n 'Out': {5: <dokuwiki_autodoc.autodoc.AutoDocumentation at 0x7f4d44429420>},\n 'get_ipython': <bound method InteractiveShell.get_ipython of <ipykernel.zmqshell.ZMQInteractiveShell object at 0x7f4d6c35c4c0>>,\n 'exit': <IPython.core.autocall.ZMQExitAutocall at 0x7f4d6c35d210>,\n 'quit': <IPython.core.autocall.ZMQExitAutocall at 0x7f4d6c35d210>,\n 'open': <function io.open(file, mode='r', buffering=-1, encoding=None, errors=None, newline=None, closefd=True, opener=None)>,\n 'sys': <module 'sys' (built-in)>,\n 'remove_imported_pydev_package': <function pydev_jupyter_utils.remove_imported_pydev_package()>,\n 'pydev_jupyter_vars': <module 'pydev_jupyter_vars' from '/home/thilo/.local/share/JetBrains/Toolbox/apps/pycharm-professional/plugins/python/helpers-pro/jupyter_debug/pydev_jupyter_vars.py'>,\n 'autodoc': <module 'dokuwiki_autodoc.autodoc' from '/home/thilo/nextcloud/Projekt-Promotion/dokuwiki-autodoc/src/dokuwiki_autodoc/autodoc.py'>,\n 'doc': <dokuwiki_autodoc.autodoc.AutoDocumentation at 0x7f4d44429420>,\n 'this_is_context': 'look_here',\n 'builder': <dokuwiki_autodoc.autodoc.QkitDocumentationBuilder at 0x7f4d444a9b40>}"
     },
     "execution_count": 8,
     "metadata": {},
     "output_type": "execute_result"
    }
   ],
   "source": [
    "builder._local_context"
   ],
   "metadata": {
    "collapsed": false,
    "ExecuteTime": {
     "end_time": "2023-11-27T15:10:16.816154914Z",
     "start_time": "2023-11-27T15:10:16.810703711Z"
    }
   },
   "id": "18f09934f78ca736"
  },
  {
   "cell_type": "code",
   "execution_count": null,
   "outputs": [],
   "source": [],
   "metadata": {
    "collapsed": false
   },
   "id": "d111f89ba2bae86b"
  }
 ],
 "metadata": {
  "kernelspec": {
   "display_name": "Python 3",
   "language": "python",
   "name": "python3"
  },
  "language_info": {
   "codemirror_mode": {
    "name": "ipython",
    "version": 2
   },
   "file_extension": ".py",
   "mimetype": "text/x-python",
   "name": "python",
   "nbconvert_exporter": "python",
   "pygments_lexer": "ipython2",
   "version": "2.7.6"
  }
 },
 "nbformat": 4,
 "nbformat_minor": 5
}
